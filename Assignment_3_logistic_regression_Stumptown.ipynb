{
  "nbformat": 4,
  "nbformat_minor": 0,
  "metadata": {
    "colab": {
      "provenance": []
    },
    "kernelspec": {
      "name": "python3",
      "display_name": "Python 3"
    },
    "language_info": {
      "name": "python"
    }
  },
  "cells": [
    {
      "cell_type": "code",
      "source": [
        "import pandas as pd\n",
        "df = pd.read_csv('StumptownWholesale.csv')\n",
        "df.head()"
      ],
      "metadata": {
        "id": "f5oVynxX0fPv",
        "colab": {
          "base_uri": "https://localhost:8080/",
          "height": 226
        },
        "outputId": "dd7c408e-769f-4e73-98ac-624b417723ca"
      },
      "execution_count": 2,
      "outputs": [
        {
          "output_type": "execute_result",
          "data": {
            "text/plain": [
              "   customer_id  is_cafe  facility_sqft  first  last  spend_total  \\\n",
              "0        45875        0            709      8     6          720   \n",
              "1        15376        1           1008     23    23          362   \n",
              "2        16802        0           2098     11    13          362   \n",
              "3        14680        1           1175     43    19         2161   \n",
              "4        89334        0           1009     15     9          366   \n",
              "\n",
              "   cold_brew_cases  hair_bender_cases  holler_mountain_cases  \\\n",
              "0                0                  0                      1   \n",
              "1                0                  0                      0   \n",
              "2                1                  0                      0   \n",
              "3                1                  3                      0   \n",
              "4                1                  1                      0   \n",
              "\n",
              "   colombia_el_jordan_cases  guatemala_el_injerto_bourbon_cases  \\\n",
              "0                         1                                   0   \n",
              "1                         2                                   0   \n",
              "2                         0                                   0   \n",
              "3                         0                                   2   \n",
              "4                         0                                   0   \n",
              "\n",
              "   seasonal_single_origin_cases  buyer  \n",
              "0                             0      0  \n",
              "1                             0      0  \n",
              "2                             0      0  \n",
              "3                             2      1  \n",
              "4                             0      0  "
            ],
            "text/html": [
              "\n",
              "  <div id=\"df-4dbaeda6-a5c6-4af6-8076-cc3f4d473fde\" class=\"colab-df-container\">\n",
              "    <div>\n",
              "<style scoped>\n",
              "    .dataframe tbody tr th:only-of-type {\n",
              "        vertical-align: middle;\n",
              "    }\n",
              "\n",
              "    .dataframe tbody tr th {\n",
              "        vertical-align: top;\n",
              "    }\n",
              "\n",
              "    .dataframe thead th {\n",
              "        text-align: right;\n",
              "    }\n",
              "</style>\n",
              "<table border=\"1\" class=\"dataframe\">\n",
              "  <thead>\n",
              "    <tr style=\"text-align: right;\">\n",
              "      <th></th>\n",
              "      <th>customer_id</th>\n",
              "      <th>is_cafe</th>\n",
              "      <th>facility_sqft</th>\n",
              "      <th>first</th>\n",
              "      <th>last</th>\n",
              "      <th>spend_total</th>\n",
              "      <th>cold_brew_cases</th>\n",
              "      <th>hair_bender_cases</th>\n",
              "      <th>holler_mountain_cases</th>\n",
              "      <th>colombia_el_jordan_cases</th>\n",
              "      <th>guatemala_el_injerto_bourbon_cases</th>\n",
              "      <th>seasonal_single_origin_cases</th>\n",
              "      <th>buyer</th>\n",
              "    </tr>\n",
              "  </thead>\n",
              "  <tbody>\n",
              "    <tr>\n",
              "      <th>0</th>\n",
              "      <td>45875</td>\n",
              "      <td>0</td>\n",
              "      <td>709</td>\n",
              "      <td>8</td>\n",
              "      <td>6</td>\n",
              "      <td>720</td>\n",
              "      <td>0</td>\n",
              "      <td>0</td>\n",
              "      <td>1</td>\n",
              "      <td>1</td>\n",
              "      <td>0</td>\n",
              "      <td>0</td>\n",
              "      <td>0</td>\n",
              "    </tr>\n",
              "    <tr>\n",
              "      <th>1</th>\n",
              "      <td>15376</td>\n",
              "      <td>1</td>\n",
              "      <td>1008</td>\n",
              "      <td>23</td>\n",
              "      <td>23</td>\n",
              "      <td>362</td>\n",
              "      <td>0</td>\n",
              "      <td>0</td>\n",
              "      <td>0</td>\n",
              "      <td>2</td>\n",
              "      <td>0</td>\n",
              "      <td>0</td>\n",
              "      <td>0</td>\n",
              "    </tr>\n",
              "    <tr>\n",
              "      <th>2</th>\n",
              "      <td>16802</td>\n",
              "      <td>0</td>\n",
              "      <td>2098</td>\n",
              "      <td>11</td>\n",
              "      <td>13</td>\n",
              "      <td>362</td>\n",
              "      <td>1</td>\n",
              "      <td>0</td>\n",
              "      <td>0</td>\n",
              "      <td>0</td>\n",
              "      <td>0</td>\n",
              "      <td>0</td>\n",
              "      <td>0</td>\n",
              "    </tr>\n",
              "    <tr>\n",
              "      <th>3</th>\n",
              "      <td>14680</td>\n",
              "      <td>1</td>\n",
              "      <td>1175</td>\n",
              "      <td>43</td>\n",
              "      <td>19</td>\n",
              "      <td>2161</td>\n",
              "      <td>1</td>\n",
              "      <td>3</td>\n",
              "      <td>0</td>\n",
              "      <td>0</td>\n",
              "      <td>2</td>\n",
              "      <td>2</td>\n",
              "      <td>1</td>\n",
              "    </tr>\n",
              "    <tr>\n",
              "      <th>4</th>\n",
              "      <td>89334</td>\n",
              "      <td>0</td>\n",
              "      <td>1009</td>\n",
              "      <td>15</td>\n",
              "      <td>9</td>\n",
              "      <td>366</td>\n",
              "      <td>1</td>\n",
              "      <td>1</td>\n",
              "      <td>0</td>\n",
              "      <td>0</td>\n",
              "      <td>0</td>\n",
              "      <td>0</td>\n",
              "      <td>0</td>\n",
              "    </tr>\n",
              "  </tbody>\n",
              "</table>\n",
              "</div>\n",
              "    <div class=\"colab-df-buttons\">\n",
              "\n",
              "  <div class=\"colab-df-container\">\n",
              "    <button class=\"colab-df-convert\" onclick=\"convertToInteractive('df-4dbaeda6-a5c6-4af6-8076-cc3f4d473fde')\"\n",
              "            title=\"Convert this dataframe to an interactive table.\"\n",
              "            style=\"display:none;\">\n",
              "\n",
              "  <svg xmlns=\"http://www.w3.org/2000/svg\" height=\"24px\" viewBox=\"0 -960 960 960\">\n",
              "    <path d=\"M120-120v-720h720v720H120Zm60-500h600v-160H180v160Zm220 220h160v-160H400v160Zm0 220h160v-160H400v160ZM180-400h160v-160H180v160Zm440 0h160v-160H620v160ZM180-180h160v-160H180v160Zm440 0h160v-160H620v160Z\"/>\n",
              "  </svg>\n",
              "    </button>\n",
              "\n",
              "  <style>\n",
              "    .colab-df-container {\n",
              "      display:flex;\n",
              "      gap: 12px;\n",
              "    }\n",
              "\n",
              "    .colab-df-convert {\n",
              "      background-color: #E8F0FE;\n",
              "      border: none;\n",
              "      border-radius: 50%;\n",
              "      cursor: pointer;\n",
              "      display: none;\n",
              "      fill: #1967D2;\n",
              "      height: 32px;\n",
              "      padding: 0 0 0 0;\n",
              "      width: 32px;\n",
              "    }\n",
              "\n",
              "    .colab-df-convert:hover {\n",
              "      background-color: #E2EBFA;\n",
              "      box-shadow: 0px 1px 2px rgba(60, 64, 67, 0.3), 0px 1px 3px 1px rgba(60, 64, 67, 0.15);\n",
              "      fill: #174EA6;\n",
              "    }\n",
              "\n",
              "    .colab-df-buttons div {\n",
              "      margin-bottom: 4px;\n",
              "    }\n",
              "\n",
              "    [theme=dark] .colab-df-convert {\n",
              "      background-color: #3B4455;\n",
              "      fill: #D2E3FC;\n",
              "    }\n",
              "\n",
              "    [theme=dark] .colab-df-convert:hover {\n",
              "      background-color: #434B5C;\n",
              "      box-shadow: 0px 1px 3px 1px rgba(0, 0, 0, 0.15);\n",
              "      filter: drop-shadow(0px 1px 2px rgba(0, 0, 0, 0.3));\n",
              "      fill: #FFFFFF;\n",
              "    }\n",
              "  </style>\n",
              "\n",
              "    <script>\n",
              "      const buttonEl =\n",
              "        document.querySelector('#df-4dbaeda6-a5c6-4af6-8076-cc3f4d473fde button.colab-df-convert');\n",
              "      buttonEl.style.display =\n",
              "        google.colab.kernel.accessAllowed ? 'block' : 'none';\n",
              "\n",
              "      async function convertToInteractive(key) {\n",
              "        const element = document.querySelector('#df-4dbaeda6-a5c6-4af6-8076-cc3f4d473fde');\n",
              "        const dataTable =\n",
              "          await google.colab.kernel.invokeFunction('convertToInteractive',\n",
              "                                                    [key], {});\n",
              "        if (!dataTable) return;\n",
              "\n",
              "        const docLinkHtml = 'Like what you see? Visit the ' +\n",
              "          '<a target=\"_blank\" href=https://colab.research.google.com/notebooks/data_table.ipynb>data table notebook</a>'\n",
              "          + ' to learn more about interactive tables.';\n",
              "        element.innerHTML = '';\n",
              "        dataTable['output_type'] = 'display_data';\n",
              "        await google.colab.output.renderOutput(dataTable, element);\n",
              "        const docLink = document.createElement('div');\n",
              "        docLink.innerHTML = docLinkHtml;\n",
              "        element.appendChild(docLink);\n",
              "      }\n",
              "    </script>\n",
              "  </div>\n",
              "\n",
              "\n",
              "    <div id=\"df-894fe658-036a-469f-9909-13ccd650b3e7\">\n",
              "      <button class=\"colab-df-quickchart\" onclick=\"quickchart('df-894fe658-036a-469f-9909-13ccd650b3e7')\"\n",
              "                title=\"Suggest charts\"\n",
              "                style=\"display:none;\">\n",
              "\n",
              "<svg xmlns=\"http://www.w3.org/2000/svg\" height=\"24px\"viewBox=\"0 0 24 24\"\n",
              "     width=\"24px\">\n",
              "    <g>\n",
              "        <path d=\"M19 3H5c-1.1 0-2 .9-2 2v14c0 1.1.9 2 2 2h14c1.1 0 2-.9 2-2V5c0-1.1-.9-2-2-2zM9 17H7v-7h2v7zm4 0h-2V7h2v10zm4 0h-2v-4h2v4z\"/>\n",
              "    </g>\n",
              "</svg>\n",
              "      </button>\n",
              "\n",
              "<style>\n",
              "  .colab-df-quickchart {\n",
              "      --bg-color: #E8F0FE;\n",
              "      --fill-color: #1967D2;\n",
              "      --hover-bg-color: #E2EBFA;\n",
              "      --hover-fill-color: #174EA6;\n",
              "      --disabled-fill-color: #AAA;\n",
              "      --disabled-bg-color: #DDD;\n",
              "  }\n",
              "\n",
              "  [theme=dark] .colab-df-quickchart {\n",
              "      --bg-color: #3B4455;\n",
              "      --fill-color: #D2E3FC;\n",
              "      --hover-bg-color: #434B5C;\n",
              "      --hover-fill-color: #FFFFFF;\n",
              "      --disabled-bg-color: #3B4455;\n",
              "      --disabled-fill-color: #666;\n",
              "  }\n",
              "\n",
              "  .colab-df-quickchart {\n",
              "    background-color: var(--bg-color);\n",
              "    border: none;\n",
              "    border-radius: 50%;\n",
              "    cursor: pointer;\n",
              "    display: none;\n",
              "    fill: var(--fill-color);\n",
              "    height: 32px;\n",
              "    padding: 0;\n",
              "    width: 32px;\n",
              "  }\n",
              "\n",
              "  .colab-df-quickchart:hover {\n",
              "    background-color: var(--hover-bg-color);\n",
              "    box-shadow: 0 1px 2px rgba(60, 64, 67, 0.3), 0 1px 3px 1px rgba(60, 64, 67, 0.15);\n",
              "    fill: var(--button-hover-fill-color);\n",
              "  }\n",
              "\n",
              "  .colab-df-quickchart-complete:disabled,\n",
              "  .colab-df-quickchart-complete:disabled:hover {\n",
              "    background-color: var(--disabled-bg-color);\n",
              "    fill: var(--disabled-fill-color);\n",
              "    box-shadow: none;\n",
              "  }\n",
              "\n",
              "  .colab-df-spinner {\n",
              "    border: 2px solid var(--fill-color);\n",
              "    border-color: transparent;\n",
              "    border-bottom-color: var(--fill-color);\n",
              "    animation:\n",
              "      spin 1s steps(1) infinite;\n",
              "  }\n",
              "\n",
              "  @keyframes spin {\n",
              "    0% {\n",
              "      border-color: transparent;\n",
              "      border-bottom-color: var(--fill-color);\n",
              "      border-left-color: var(--fill-color);\n",
              "    }\n",
              "    20% {\n",
              "      border-color: transparent;\n",
              "      border-left-color: var(--fill-color);\n",
              "      border-top-color: var(--fill-color);\n",
              "    }\n",
              "    30% {\n",
              "      border-color: transparent;\n",
              "      border-left-color: var(--fill-color);\n",
              "      border-top-color: var(--fill-color);\n",
              "      border-right-color: var(--fill-color);\n",
              "    }\n",
              "    40% {\n",
              "      border-color: transparent;\n",
              "      border-right-color: var(--fill-color);\n",
              "      border-top-color: var(--fill-color);\n",
              "    }\n",
              "    60% {\n",
              "      border-color: transparent;\n",
              "      border-right-color: var(--fill-color);\n",
              "    }\n",
              "    80% {\n",
              "      border-color: transparent;\n",
              "      border-right-color: var(--fill-color);\n",
              "      border-bottom-color: var(--fill-color);\n",
              "    }\n",
              "    90% {\n",
              "      border-color: transparent;\n",
              "      border-bottom-color: var(--fill-color);\n",
              "    }\n",
              "  }\n",
              "</style>\n",
              "\n",
              "      <script>\n",
              "        async function quickchart(key) {\n",
              "          const quickchartButtonEl =\n",
              "            document.querySelector('#' + key + ' button');\n",
              "          quickchartButtonEl.disabled = true;  // To prevent multiple clicks.\n",
              "          quickchartButtonEl.classList.add('colab-df-spinner');\n",
              "          try {\n",
              "            const charts = await google.colab.kernel.invokeFunction(\n",
              "                'suggestCharts', [key], {});\n",
              "          } catch (error) {\n",
              "            console.error('Error during call to suggestCharts:', error);\n",
              "          }\n",
              "          quickchartButtonEl.classList.remove('colab-df-spinner');\n",
              "          quickchartButtonEl.classList.add('colab-df-quickchart-complete');\n",
              "        }\n",
              "        (() => {\n",
              "          let quickchartButtonEl =\n",
              "            document.querySelector('#df-894fe658-036a-469f-9909-13ccd650b3e7 button');\n",
              "          quickchartButtonEl.style.display =\n",
              "            google.colab.kernel.accessAllowed ? 'block' : 'none';\n",
              "        })();\n",
              "      </script>\n",
              "    </div>\n",
              "\n",
              "    </div>\n",
              "  </div>\n"
            ],
            "application/vnd.google.colaboratory.intrinsic+json": {
              "type": "dataframe",
              "variable_name": "df",
              "summary": "{\n  \"name\": \"df\",\n  \"rows\": 15000,\n  \"fields\": [\n    {\n      \"column\": \"customer_id\",\n      \"properties\": {\n        \"dtype\": \"number\",\n        \"std\": 25970,\n        \"min\": 10005,\n        \"max\": 99995,\n        \"num_unique_values\": 15000,\n        \"samples\": [\n          10137,\n          60817,\n          65210\n        ],\n        \"semantic_type\": \"\",\n        \"description\": \"\"\n      }\n    },\n    {\n      \"column\": \"is_cafe\",\n      \"properties\": {\n        \"dtype\": \"number\",\n        \"std\": 0,\n        \"min\": 0,\n        \"max\": 1,\n        \"num_unique_values\": 2,\n        \"samples\": [\n          1,\n          0\n        ],\n        \"semantic_type\": \"\",\n        \"description\": \"\"\n      }\n    },\n    {\n      \"column\": \"facility_sqft\",\n      \"properties\": {\n        \"dtype\": \"number\",\n        \"std\": 212,\n        \"min\": 457,\n        \"max\": 2098,\n        \"num_unique_values\": 1158,\n        \"samples\": [\n          673,\n          1211\n        ],\n        \"semantic_type\": \"\",\n        \"description\": \"\"\n      }\n    },\n    {\n      \"column\": \"first\",\n      \"properties\": {\n        \"dtype\": \"number\",\n        \"std\": 18,\n        \"min\": 1,\n        \"max\": 100,\n        \"num_unique_values\": 100,\n        \"samples\": [\n          76,\n          75\n        ],\n        \"semantic_type\": \"\",\n        \"description\": \"\"\n      }\n    },\n    {\n      \"column\": \"last\",\n      \"properties\": {\n        \"dtype\": \"number\",\n        \"std\": 8,\n        \"min\": 1,\n        \"max\": 37,\n        \"num_unique_values\": 37,\n        \"samples\": [\n          14,\n          3\n        ],\n        \"semantic_type\": \"\",\n        \"description\": \"\"\n      }\n    },\n    {\n      \"column\": \"spend_total\",\n      \"properties\": {\n        \"dtype\": \"number\",\n        \"std\": 973,\n        \"min\": 342,\n        \"max\": 4368,\n        \"num_unique_values\": 1243,\n        \"samples\": [\n          4052,\n          2846\n        ],\n        \"semantic_type\": \"\",\n        \"description\": \"\"\n      }\n    },\n    {\n      \"column\": \"cold_brew_cases\",\n      \"properties\": {\n        \"dtype\": \"number\",\n        \"std\": 0,\n        \"min\": 0,\n        \"max\": 6,\n        \"num_unique_values\": 7,\n        \"samples\": [\n          0,\n          1\n        ],\n        \"semantic_type\": \"\",\n        \"description\": \"\"\n      }\n    },\n    {\n      \"column\": \"hair_bender_cases\",\n      \"properties\": {\n        \"dtype\": \"number\",\n        \"std\": 0,\n        \"min\": 0,\n        \"max\": 7,\n        \"num_unique_values\": 8,\n        \"samples\": [\n          3,\n          5\n        ],\n        \"semantic_type\": \"\",\n        \"description\": \"\"\n      }\n    },\n    {\n      \"column\": \"holler_mountain_cases\",\n      \"properties\": {\n        \"dtype\": \"number\",\n        \"std\": 0,\n        \"min\": 0,\n        \"max\": 6,\n        \"num_unique_values\": 7,\n        \"samples\": [\n          1,\n          0\n        ],\n        \"semantic_type\": \"\",\n        \"description\": \"\"\n      }\n    },\n    {\n      \"column\": \"colombia_el_jordan_cases\",\n      \"properties\": {\n        \"dtype\": \"number\",\n        \"std\": 1,\n        \"min\": 0,\n        \"max\": 9,\n        \"num_unique_values\": 10,\n        \"samples\": [\n          8,\n          2\n        ],\n        \"semantic_type\": \"\",\n        \"description\": \"\"\n      }\n    },\n    {\n      \"column\": \"guatemala_el_injerto_bourbon_cases\",\n      \"properties\": {\n        \"dtype\": \"number\",\n        \"std\": 0,\n        \"min\": 0,\n        \"max\": 5,\n        \"num_unique_values\": 6,\n        \"samples\": [\n          0,\n          2\n        ],\n        \"semantic_type\": \"\",\n        \"description\": \"\"\n      }\n    },\n    {\n      \"column\": \"seasonal_single_origin_cases\",\n      \"properties\": {\n        \"dtype\": \"number\",\n        \"std\": 0,\n        \"min\": 0,\n        \"max\": 6,\n        \"num_unique_values\": 7,\n        \"samples\": [\n          0,\n          2\n        ],\n        \"semantic_type\": \"\",\n        \"description\": \"\"\n      }\n    },\n    {\n      \"column\": \"buyer\",\n      \"properties\": {\n        \"dtype\": \"number\",\n        \"std\": 0,\n        \"min\": 0,\n        \"max\": 1,\n        \"num_unique_values\": 2,\n        \"samples\": [\n          1,\n          0\n        ],\n        \"semantic_type\": \"\",\n        \"description\": \"\"\n      }\n    }\n  ]\n}"
            }
          },
          "metadata": {},
          "execution_count": 2
        }
      ]
    },
    {
      "cell_type": "markdown",
      "source": [
        "# **Part I) Logistic Regression and Gains Graphs**\n",
        "**Question 1**: Run a logistic regression (also known as logit model) where the variable ‘buyer’ is your dependent variable (i.e., outcome variable). For predictors, use every other variable in the data except for ‘customer_id’. Do not use any interaction terms in your model. Use the summary() command to report coefficient tables. Please explain if estimated coefficients make sense to you from a managerial perspective."
      ],
      "metadata": {
        "id": "ADUed4AI0Z2g"
      }
    },
    {
      "cell_type": "code",
      "execution_count": 3,
      "metadata": {
        "colab": {
          "base_uri": "https://localhost:8080/"
        },
        "id": "Em5dl_pv0U0H",
        "outputId": "157af5fe-b566-44b6-967e-04b1d4dee0ed"
      },
      "outputs": [
        {
          "output_type": "stream",
          "name": "stdout",
          "text": [
            "                           Logit Regression Results                           \n",
            "==============================================================================\n",
            "Dep. Variable:                  buyer   No. Observations:                15000\n",
            "Model:                          Logit   Df Residuals:                    14988\n",
            "Method:                           MLE   Df Model:                           11\n",
            "Date:                Sat, 18 Oct 2025   Pseudo R-squ.:                  0.1669\n",
            "Time:                        03:07:52   Log-Likelihood:                -3699.3\n",
            "converged:                       True   LL-Null:                       -4440.2\n",
            "Covariance Type:            nonrobust   LLR p-value:                2.838e-311\n",
            "======================================================================================================\n",
            "                                         coef    std err          z      P>|z|      [0.025      0.975]\n",
            "------------------------------------------------------------------------------------------------------\n",
            "Intercept                             -2.5620      0.165    -15.539      0.000      -2.885      -2.239\n",
            "is_cafe                                0.7662      0.065     11.773      0.000       0.639       0.894\n",
            "facility_sqft                       6.844e-05      0.000      0.470      0.638      -0.000       0.000\n",
            "first                                 -0.0166      0.004     -4.647      0.000      -0.024      -0.010\n",
            "last                                  -0.0711      0.006    -11.754      0.000      -0.083      -0.059\n",
            "spend_total                            0.0008      0.000      7.101      0.000       0.001       0.001\n",
            "cold_brew_cases                       -0.2283      0.053     -4.291      0.000      -0.333      -0.124\n",
            "hair_bender_cases                      0.3277      0.045      7.308      0.000       0.240       0.416\n",
            "holler_mountain_cases                 -0.6027      0.056    -10.838      0.000      -0.712      -0.494\n",
            "colombia_el_jordan_cases              -0.3483      0.046     -7.589      0.000      -0.438      -0.258\n",
            "guatemala_el_injerto_bourbon_cases     0.6962      0.047     14.942      0.000       0.605       0.788\n",
            "seasonal_single_origin_cases           0.0024      0.053      0.045      0.964      -0.101       0.106\n",
            "======================================================================================================\n"
          ]
        }
      ],
      "source": [
        "import statsmodels.formula.api as smf\n",
        "\n",
        "all_cols = [c for c in df.columns if c not in ['customer_id']]\n",
        "df = df[all_cols].dropna().copy()\n",
        "df['buyer'] = df['buyer'].astype(int)\n",
        "\n",
        "predictors = [c for c in df.columns if c != 'buyer']\n",
        "formula = 'buyer ~ ' + ' + '.join(predictors)\n",
        "\n",
        "\n",
        "model = smf.logit(formula, data=df).fit(disp=False)\n",
        "print(model.summary())"
      ]
    },
    {
      "cell_type": "markdown",
      "source": [
        "Interpretation of estimated coefficients:\n",
        "\n",
        "Intercept — Baseline chance to buy is low for an “average” account; that’s normal for this kind of campaign.\n",
        "\n",
        "is_cafe — Cafés are more likely to order; they rotate menus and sell more single-origin, so this makes sense.\n",
        "\n",
        "facility_sqft — Store size doesn’t add much once we already know their buying history; square footage is a weak proxy.\n",
        "\n",
        "first — Accounts whose relationship started long ago are a bit less likely to respond now; older ties can go cold.\n",
        "\n",
        "last — If it’s been longer since the last purchase, the chance to buy drops; classic recency effect.\n",
        "\n",
        "spend_total — Higher past spending means a higher chance to buy; bigger customers act more often.\n",
        "\n",
        "cold_brew_cases — Heavy cold-brew buyers are less likely to take a seasonal single-origin; different use case and audience.\n",
        "\n",
        "hair_bender_cases — Strong buyers of this core espresso are more likely to try the promo; active, engaged shops explore more.\n",
        "\n",
        "holler_mountain_cases — Blend-focused buyers are less likely to switch to a seasonal single-origin; fits a value/consistency preference.\n",
        "\n",
        "colombia_el_jordan_cases — Similar to above: these buyers lean toward a set profile rather than rotating seasonals.\n",
        "\n",
        "guatemala_el_injerto_bourbon_cases — Premium single-origin buyers are prime targets; they’re already in the habit of trying special lots.\n",
        "\n",
        "seasonal_single_origin_cases — On its own it looked important, but after controlling for everything else it adds little; its earlier signal was mostly standing in for overall customer scale and recency.\n",
        "\n",
        "Managerially: cafés and customers active on core SKUs (Hair Bender, Guatemala El Injerto Bourbon) and recent purchasers are most promising; lapsed or “other-blend–heavy” buyers respond less"
      ],
      "metadata": {
        "id": "Io1IOSY1Sjo8"
      }
    },
    {
      "cell_type": "markdown",
      "source": [
        "**Question 2**: Create a column that shows the probability predictions of the logit model. Then\n",
        "make deciles (quantiles of order 10) based on logit probability predictions. In other words,\n",
        "create a column that shows whether each customer belongs to decile 1, decile 2, … , or\n",
        "decile 10. As we have established throughout this course, the decile with the smallest\n",
        "number (in this case decile 1) should show the highest probabilities and decile 10 is for the\n",
        "lowest probability. Report a table that shows the response rate in each decile."
      ],
      "metadata": {
        "id": "_m4ioipD1n4M"
      }
    },
    {
      "cell_type": "code",
      "source": [
        "# --- Predictions ---\n",
        "df['preds'] = model.predict(df)\n",
        "df[['buyer','preds']].head()\n",
        "\n",
        "# --- Simple deciles (1 = highest probability) ---\n",
        "df['decile'] = pd.qcut(-df['preds'], 10, labels=[i for i in range(1,11)])\n",
        "deciles = (df.groupby('decile')\n",
        "             .agg(customers=('buyer','size'),\n",
        "                  buyers=('buyer','sum'),\n",
        "                  response_rate=('buyer','mean'),\n",
        "                  avg_p_hat=('preds','mean'))\n",
        "             .reset_index()\n",
        "             .sort_values('decile'))\n",
        "print(\"\\n=== Deciles (1=highest) ===\\n\")\n",
        "print(deciles.round(4))"
      ],
      "metadata": {
        "colab": {
          "base_uri": "https://localhost:8080/"
        },
        "id": "nTbgu8hP1qAj",
        "outputId": "0f40aba8-9084-417e-bd16-2a34d8d280ef"
      },
      "execution_count": 5,
      "outputs": [
        {
          "output_type": "stream",
          "name": "stdout",
          "text": [
            "\n",
            "=== Deciles (1=highest) ===\n",
            "\n",
            "  decile  customers  buyers  response_rate  avg_p_hat\n",
            "0      1       1500     524         0.3493     0.3377\n",
            "1      2       1500     214         0.1427     0.1540\n",
            "2      3       1500     150         0.1000     0.1058\n",
            "3      4       1500     122         0.0813     0.0790\n",
            "4      5       1500      88         0.0587     0.0608\n",
            "5      6       1500      63         0.0420     0.0470\n",
            "6      7       1500      54         0.0360     0.0358\n",
            "7      8       1500      44         0.0293     0.0262\n",
            "8      9       1500      31         0.0207     0.0177\n",
            "9     10       1500      18         0.0120     0.0080\n"
          ]
        },
        {
          "output_type": "stream",
          "name": "stderr",
          "text": [
            "/tmp/ipython-input-3712942372.py:7: FutureWarning: The default of observed=False is deprecated and will be changed to True in a future version of pandas. Pass observed=False to retain current behavior or observed=True to adopt the future default and silence this warning.\n",
            "  deciles = (df.groupby('decile')\n"
          ]
        }
      ]
    },
    {
      "cell_type": "markdown",
      "source": [
        "**Question 3**: Plot the Gains graph for the logit model. To create the gains graph, you can use\n",
        "Microsoft Excel. Note that the Gains graph should have the straight line that represents the\n",
        "random model performance as the baseline.\n",
        "\n",
        "**Response on Microsoft Excel**"
      ],
      "metadata": {
        "id": "Np68a4EL32If"
      }
    },
    {
      "cell_type": "code",
      "source": [
        "import numpy as np\n",
        "import matplotlib.pyplot as plt\n",
        "\n",
        "sorted_df = df.sort_values('preds', ascending=False).reset_index(drop=True)\n",
        "sorted_df['cum_customers_pct'] = (np.arange(1, len(sorted_df)+1) / len(sorted_df))\n",
        "sorted_df['cum_buyers_pct'] = (sorted_df['buyer'].cumsum() / sorted_df['buyer'].sum())\n",
        "\n",
        "plt.figure()\n",
        "plt.plot(sorted_df['cum_customers_pct'], sorted_df['cum_buyers_pct'], label='Logit model')\n",
        "plt.plot([0,1],[0,1],'--', label='Random')\n",
        "plt.xlabel('Cumulative share of customers'); plt.ylabel('Cumulative share of buyers')\n",
        "plt.title('Gains Chart'); plt.legend(); plt.tight_layout(); plt.show()"
      ],
      "metadata": {
        "colab": {
          "base_uri": "https://localhost:8080/",
          "height": 487
        },
        "id": "smLh2MnBTB-c",
        "outputId": "1978b685-dd0b-4537-966e-9d299884f9f7"
      },
      "execution_count": 6,
      "outputs": [
        {
          "output_type": "display_data",
          "data": {
            "text/plain": [
              "<Figure size 640x480 with 1 Axes>"
            ],
            "image/png": "[encoded data removed]"
          },
          "metadata": {}
        }
      ]
    },
    {
      "cell_type": "markdown",
      "source": [
        "# **Part II) Economic Analysis**\n",
        "**Question 4**: What is the break-even response rate? In other words, how high the customer’s\n",
        "predicted probability should be so that we can classify them as profitable targets?"
      ],
      "metadata": {
        "id": "vsxWf4AOKxRe"
      }
    },
    {
      "cell_type": "code",
      "source": [
        "# Case economics\n",
        "cost_per_offer = 20.0                     # $13 ship + $7 COGS (sample)\n",
        "profit_per_buyer = 440.0 - (30.0+140.0)   # revenue - (ship+COGS on order) = $270\n",
        "print(\"\\nprofit_per_buyer =\", profit_per_buyer)\n",
        "\n",
        "# Break-even probability\n",
        "bep = cost_per_offer / profit_per_buyer   # 20 / 270 ≈ 0.074074\n",
        "print(\"Break-even p* =\", f\"{bep * 100:.2f}%\")\n",
        "\n",
        "# Whom to mail?\n",
        "df['mailto'] = (df['preds'] >= bep).astype(int)"
      ],
      "metadata": {
        "colab": {
          "base_uri": "https://localhost:8080/"
        },
        "id": "jxDSt20zTVV8",
        "outputId": "e0a4c3cc-8109-4551-fda8-224ce07ac929"
      },
      "execution_count": 9,
      "outputs": [
        {
          "output_type": "stream",
          "name": "stdout",
          "text": [
            "\n",
            "profit_per_buyer = 270.0\n",
            "Break-even p* = 7.41%\n"
          ]
        }
      ]
    },
    {
      "cell_type": "markdown",
      "source": [
        "**Question 5**: Stumptown now wants to ship the free sample only to customers who they\n",
        "deem profitable, i.e., those with the predicted probability of buying above the break-even\n",
        "response rate. Out of the remaining 45,000 customers in the database, how many of them\n",
        "would be targeted? What is the expected response rate among those targeted? What would\n",
        "be the expected profit in dollars?"
      ],
      "metadata": {
        "id": "ndUmuWplOhkW"
      }
    },
    {
      "cell_type": "code",
      "source": [
        "# Proportion targeted\n",
        "target_rate = df['mailto'].mean()\n",
        "print(\"Target rate (sample) =\", f\"{target_rate * 100:.2f}%\")\n",
        "\n",
        "# Scale to the 45,000 remaining accounts (sample ~15k → scale x3)\n",
        "total_customers = 45000\n",
        "targeted_customers = target_rate * total_customers\n",
        "print(\"Targeted customers (45k) =\", int(round(targeted_customers)))\n",
        "\n",
        "# Actual response rate observed among the to-be-targeted group (like logistic_.py style)\n",
        "targeted_response_rate = df.loc[df['mailto']==1, 'buyer'].mean()\n",
        "print(\"Observed response rate among targeted =\", f\"{targeted_response_rate * 100:.2f}%\")\n",
        "\n",
        "# Expected buyers and profit (logit targeting)\n",
        "expected_buyers_logit = targeted_response_rate * targeted_customers\n",
        "profit_logit = profit_per_buyer * expected_buyers_logit - targeted_customers * cost_per_offer\n",
        "print(\"Expected buyers (targeted, 45k scale) =\", round(expected_buyers_logit,2))\n",
        "print(\"Expected PROFIT (targeted) = ${:,.2f}\".format(profit_logit))"
      ],
      "metadata": {
        "colab": {
          "base_uri": "https://localhost:8080/"
        },
        "id": "9yN63Pn5TLgL",
        "outputId": "d5e0918a-9adb-4a79-9a0d-12c3333eb8ac"
      },
      "execution_count": 12,
      "outputs": [
        {
          "output_type": "stream",
          "name": "stdout",
          "text": [
            "Target rate (sample) = 37.11%\n",
            "Targeted customers (45k) = 16701\n",
            "Observed response rate among targeted = 17.66%\n",
            "Expected buyers (targeted, 45k scale) = 2949.0\n",
            "Expected PROFIT (targeted) = $462,210.00\n"
          ]
        }
      ]
    },
    {
      "cell_type": "markdown",
      "source": [
        "**Question 6**: Compare the expected profits you have obtained in Question 5 and compare it\n",
        "to the expected profit of a scenario where Stumptown does not use analytics to guide their\n",
        "targeting decision, instead they ship the offer to everyone in the remaining data as well (in\n",
        "other words, all 45,000 customers get the 1-lb free sample). Comment on any improvements\n",
        "that you observe in Logit model compared to the case where the company targets all 45,000\n",
        "customers."
      ],
      "metadata": {
        "id": "neMemV1RUSTS"
      }
    },
    {
      "cell_type": "code",
      "source": [
        "# --- Benchmark: mail to ALL 45k (same simple style) ---\n",
        "overall_response_rate = df['buyer'].mean()\n",
        "expected_buyers_all = overall_response_rate * total_customers\n",
        "profit_all = profit_per_buyer * expected_buyers_all - total_customers * cost_per_offer\n",
        "print(\"\\n[Send to ALL] response rate =\", round(overall_response_rate,4))\n",
        "print(\"[Send to ALL] expected buyers =\", round(expected_buyers_all,2))\n",
        "print(\"[Send to ALL] PROFIT = ${:,.2f}\".format(profit_all))"
      ],
      "metadata": {
        "colab": {
          "base_uri": "https://localhost:8080/"
        },
        "id": "_mu3lDXbUG3z",
        "outputId": "8898cb12-a590-47b7-820c-a55d89110bf9"
      },
      "execution_count": 13,
      "outputs": [
        {
          "output_type": "stream",
          "name": "stdout",
          "text": [
            "\n",
            "[Send to ALL] response rate = 0.0872\n",
            "[Send to ALL] expected buyers = 3924.0\n",
            "[Send to ALL] PROFIT = $159,480.00\n"
          ]
        }
      ]
    },
    {
      "cell_type": "code",
      "source": [
        "# --- Tiny summary printout ---\n",
        "print(\"\\n=== SUMMARY ===\")\n",
        "print(f\"Break-even p*: {bep:.4%}\")\n",
        "print(f\"Target rate: {target_rate:.2%}  → {int(round(targeted_customers))} / 45,000\")\n",
        "print(f\"Targeted RR (observed): {targeted_response_rate:.2%}\")\n",
        "print(f\"Profit (Targeted): ${profit_logit:,.0f}\")\n",
        "print(f\"Profit (Send ALL): ${profit_all:,.0f}\")"
      ],
      "metadata": {
        "colab": {
          "base_uri": "https://localhost:8080/"
        },
        "id": "uke_X3sTULLV",
        "outputId": "87bd2cba-eeea-4ed3-d071-175f59bb1690"
      },
      "execution_count": 14,
      "outputs": [
        {
          "output_type": "stream",
          "name": "stdout",
          "text": [
            "\n",
            "=== SUMMARY ===\n",
            "Break-even p*: 7.4074%\n",
            "Target rate: 37.11%  → 16701 / 45,000\n",
            "Targeted RR (observed): 17.66%\n",
            "Profit (Targeted): $462,210\n",
            "Profit (Send ALL): $159,480\n"
          ]
        }
      ]
    },
    {
      "cell_type": "markdown",
      "source": [
        "With analytics, we would ship samples only to the 16,701 accounts whose predicted probability clears the profit break-even. That smaller, higher-quality pool responds at 17.67% and generates an expected profit of 462,210. In contrast, if we skip targeting and mail to all 45,000 accounts, the program’s expected profit falls to 159,480. We can see that the model delivers 302,730 more profit, which is about a 190% lift over mailing to everyone. The model achieves this by concentrating buyers and cutting waste. Profit per mailed account jumps from 3.54 to 27.68 (8 times), and mail cost per buyer halves from 229 to 113. The targeted group’s 17.67% hit rate is roughly 2x the list’s base rate (~8.7%).\n"
      ],
      "metadata": {
        "id": "4ZOS9hB5U4fk"
      }
    },
    {
      "cell_type": "markdown",
      "source": [
        "# **Part III) Interpretation of An Alternative Model**\n",
        "**Question 7**: Now instead of running the logistic regression model with all variables (except\n",
        "for customer_id), this time we only run the logit model with one variable of\n",
        "‘seasonal_single_origin_cases’ and no other variable. In other words, we use the\n",
        "following formula in the new logistic regression:\n",
        "'buyer ~ seasonal_single_origin_cases'\n",
        "Look at the coefficient of seasonal single origin in the new model and compare it to the\n",
        "seasonal single origin coefficient you observed in Question 1 (full model). Comment on why\n",
        "you think these two coefficients are different."
      ],
      "metadata": {
        "id": "g1YsRxBHXNAD"
      }
    },
    {
      "cell_type": "code",
      "source": [
        "import statsmodels.formula.api as smf\n",
        "from statsmodels.stats.power import NormalIndPower"
      ],
      "metadata": {
        "id": "SFy5P6ykVSx7"
      },
      "execution_count": null,
      "outputs": []
    },
    {
      "cell_type": "code",
      "source": [
        "new_model = smf.logit('buyer ~ seasonal_single_origin_cases', data=df).fit()\n",
        "print(new_model.summary())\n",
        "df['logit-preds2'] = new_model.predict(df)"
      ],
      "metadata": {
        "colab": {
          "base_uri": "https://localhost:8080/"
        },
        "id": "Qn0ComfBXXmk",
        "outputId": "b022a6ef-5d3b-47fd-ed4d-f872da29ecee"
      },
      "execution_count": 16,
      "outputs": [
        {
          "output_type": "stream",
          "name": "stdout",
          "text": [
            "Optimization terminated successfully.\n",
            "         Current function value: 0.294688\n",
            "         Iterations 6\n",
            "                           Logit Regression Results                           \n",
            "==============================================================================\n",
            "Dep. Variable:                  buyer   No. Observations:                15000\n",
            "Model:                          Logit   Df Residuals:                    14998\n",
            "Method:                           MLE   Df Model:                            1\n",
            "Date:                Sat, 18 Oct 2025   Pseudo R-squ.:                0.004469\n",
            "Time:                        03:21:15   Log-Likelihood:                -4420.3\n",
            "converged:                       True   LL-Null:                       -4440.2\n",
            "Covariance Type:            nonrobust   LLR p-value:                 2.978e-10\n",
            "================================================================================================\n",
            "                                   coef    std err          z      P>|z|      [0.025      0.975]\n",
            "------------------------------------------------------------------------------------------------\n",
            "Intercept                       -2.4593      0.035    -71.033      0.000      -2.527      -2.391\n",
            "seasonal_single_origin_cases     0.2503      0.038      6.546      0.000       0.175       0.325\n",
            "================================================================================================\n"
          ]
        }
      ]
    },
    {
      "cell_type": "markdown",
      "source": [
        "**Comments**: With only one predictor, the coefficient for seasonal_single_origin_cases is 0.2503 (strong and significant). In the full model with many predictors, it drops to 0.0037 (not significant). This happens because the one-variable model mixes together many effects. Seasonal purchases are related to other things—like customer size, how recently they bought, and what products they buy. When we don’t include those other factors, the seasonal variable “borrows” their effect and looks strong. When we add proper controls, we see the true, small effect of seasonal cases by themselves."
      ],
      "metadata": {
        "id": "XXEqcDVOYE_M"
      }
    },
    {
      "cell_type": "markdown",
      "source": [
        "Q8. Yes, Stumptown should run a new test for the Ethiopia coffee next year. The old test was for Honduras El Puente at a different time. Customer taste and behavior can change with the coffee’s origin, flavor profile, and season. A new randomized test (with a control group that gets no sample) will measure the extra impact of sending samples, update the break-even rule, and let the team try better options (for example, smaller sample size or different messages) to maximize profit, not just response rate."
      ],
      "metadata": {
        "id": "iEmamJlGVq4c"
      }
    },
    {
      "cell_type": "markdown",
      "source": [
        "Q9. Main limits: there was no control group, so we cannot be sure how many orders were caused by the sample versus normal buying. The outcome was a simple “bought ≥20 lb or not,” which throws away information about order size and profit. Results also come from one product and time period, so they may not generalize. The model’s probability calibration and robustness were not shown, and differences across customer segments were not deeply studied. Improvements: run a stratified randomized test with a control group, optimize for profit (not just yes/no buying), test multiple versions (sample size, message, timing), check and fix probability calibration, and try cheaper sampling logistics to lower the break-even threshold."
      ],
      "metadata": {
        "id": "5wWcKv8FVtTj"
      }
    }
  ]
}
